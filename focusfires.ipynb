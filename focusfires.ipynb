{
 "cells": [
  {
   "cell_type": "code",
   "execution_count": 12,
   "metadata": {},
   "outputs": [],
   "source": [
    "import os\n",
    "\n",
    "import earthpy as et\n",
    "import pandas as pd"
   ]
  },
  {
   "cell_type": "code",
   "execution_count": 9,
   "metadata": {},
   "outputs": [],
   "source": [
    "fire_dir = os.path.join(et.io.HOME, 'earth-analytics', 'EA_fire_project')\n",
    "data_dir = os.path.join(fire_dir, 'data')\n",
    "processed_dir = os.path.join(data_dir, 'processed')"
   ]
  },
  {
   "cell_type": "code",
   "execution_count": 13,
   "metadata": {},
   "outputs": [],
   "source": [
    "# Specify file path\n",
    "focusfire_path = os.path.join(processed_dir, 'focusfires_cleaned_df.csv')\n",
    "\n",
    "# Check if the file exists\n",
    "if not os.path.exists(focusfire_path):\n",
    "    print('File needs to be downloaded')\n",
    "    \n",
    "focus_df = pd.read_csv(focusfire_path, low_memory=False)"
   ]
  },
  {
   "cell_type": "code",
   "execution_count": 18,
   "metadata": {},
   "outputs": [
    {
     "name": "stdout",
     "output_type": "stream",
     "text": [
      "(142, 155)\n",
      "Index(['Unnamed: 0', 'ACRES', 'ADDNTL_FUEL_MODEL',\n",
      "       'ADDTNL_COOP_ASSIST_ORG_NARR', 'ANTICIPATED_COMPLETION_DATE',\n",
      "       'AREA_CLOSURE_FLAG', 'CAUSE', 'COMPLEX', 'COMPLEXITY_LEVEL_NARR',\n",
      "       'COMPLEX_NAME',\n",
      "       ...\n",
      "       'INCTYP_DESC', 'INCTYP_ABBREVIATION', 'DISCOVERY_DOY', 'REPORT_DOY',\n",
      "       'EVENT_ID', 'NEW_ACRES', 'REPORT_DAY_SPAN', 'EVENT_FINAL_ACRES',\n",
      "       'WF_FSR', 'MAX_FIRE_PCT_FINAL_SIZE'],\n",
      "      dtype='object', length=155)\n",
      "evacuation in place for area 1.5 miles around the fire. impacting campgrounds and dispersed camping. potential impacts on utility infrastructure including pg&e distribution lines.  cosumnes watershed; a critical & high value natural flowing watershed.  goshawk and spotted owl pacs & california red-legged frog critical habitat. native american and historic cultural sites.  potential impacts to class 1 airshed to the east|leoni meadows, grizzly flats and omo ranch have a high probability of being impacted by fire in the next 7 days in the absence of an inversion.approximately 800 private structures threatened including the communities of omo ranch (population of 284) and grizzly flats (population of 1,200); combination of residences and outbuildings.  private businesses, commercial timberlands, vinyards and other agricultural lands.   utility infrastructure including pg&e distribution lines.   cosumnes watershed; a critical & high value natural flowing watershed.    goshawk and spotted owl pacs & california red-legged frog critical habitat   native american and historic cultural sites.|approximately 800 private structures threatened including the communities of omo ranch (population of 284) and grizzly flats (population of 1,200); combination of residences and outbuildings. private businesses, commercial timberlands, vinyards and other agricultural lands.  utility infrastructure including pg&e distribution lines.  cosumnes watershed; a critical & high value natural flowing watershed.    goshawk and spotted owl pacs & california red-legged frog critical habitat   native american and historic cultural sites.|approximately 800 private structures threatened including the communities of omo ranch (population of 284) and grizzly flats (population of 1,200); combination of residences and outbuildings.  private businesses, commercial timberlands, vinyards and other agricultural lands.   utility infrastructure including pg&e distribution lines.   cosumnes watershed; a critical & high value natural flowing watershed.    goshawk and spotted owl pacs & california red-legged frog critical habitat   native american and historic cultural sites.|fire behavior analysis indicate additional evacuations (advisories, warnings) within the next 24 hours for a wider area including the community of grizzly flats, developed campgrounds and other private properties.  potential impacts to trans-sierra interstate travel and important evacuation routes.  approximately 800 private structures threatened including the communities of omo ranch (population of 284) and grizzly flats (population of 1,200); combination of residences and outbuildings. private businesses, commercial timberlands, vinyards and other agricultural lands.  utility infrastructure including pg&e distribution lines.  cosumnes watershed; a critical & high value natural flowing watershed.    goshawk and spotted owl pacs & california red-legged frog critical habitat   native american and historic cultural sites.   potential impacts to class 1 airshed to the east\n"
     ]
    }
   ],
   "source": [
    "print(focus_df.shape)\n",
    "print(focus_df.columns)\n",
    "print(focus_df.at[0, 'CURRENT_THREAT_NARR'])\n"
   ]
  },
  {
   "cell_type": "code",
   "execution_count": 22,
   "metadata": {},
   "outputs": [
    {
     "name": "stdout",
     "output_type": "stream",
     "text": [
      "{'evacuation': 2, 'in': 3, 'for': 2, 'area': 2, 'the': 11, 'campgrounds': 2, 'and': 26, 'potential': 4, 'impacts': 4, 'utility': 5, 'infrastructure': 5, 'including': 10, 'pg&e': 5, 'distribution': 5, 'lines.': 5, 'cosumnes': 5, 'watershed;': 5, 'a': 7, 'critical': 10, '&': 10, 'high': 6, 'value': 5, 'natural': 5, 'flowing': 5, 'watershed.': 5, 'goshawk': 5, 'spotted': 5, 'owl': 5, 'pacs': 5, 'california': 5, 'red-legged': 5, 'frog': 5, 'native': 5, 'american': 5, 'historic': 5, 'cultural': 5, 'sites.': 2, 'to': 5, 'class': 2, '1': 2, 'airshed': 2, 'grizzly': 6, 'flats': 5, 'omo': 5, 'ranch': 5, 'of': 19, 'next': 2, '800': 4, 'private': 9, 'structures': 4, 'threatened': 4, 'communities': 4, '(population': 8, '284)': 4, '1,200);': 4, 'combination': 4, 'residences': 4, 'outbuildings.': 4, 'businesses,': 4, 'commercial': 4, 'timberlands,': 4, 'vinyards': 4, 'other': 5, 'agricultural': 4, 'lands.': 4, 'habitat': 4, 'sites.|approximately': 2}\n"
     ]
    }
   ],
   "source": [
    "# Assuming 'focus_df' is your DataFrame and 'COLUMN_NAME' is the column you're interested in\n",
    "first_row_text = focus_df.iloc[0]['CURRENT_THREAT_NARR']\n",
    "words = first_row_text.split()\n",
    "word_counts = {}\n",
    "\n",
    "# Count occurrences of each word\n",
    "for word in words:\n",
    "    word_counts[word] = word_counts.get(word, 0) + 1\n",
    "\n",
    "# Filter out words that occur only once\n",
    "repeated_words = {word: count for word, count in word_counts.items() if count > 1}\n",
    "\n",
    "print(repeated_words)"
   ]
  },
  {
   "cell_type": "code",
   "execution_count": 25,
   "metadata": {},
   "outputs": [
    {
     "name": "stdout",
     "output_type": "stream",
     "text": [
      "                    Word  Count\n",
      "0                    and     26\n",
      "1                     of     19\n",
      "2                    the     11\n",
      "3              including     10\n",
      "4               critical     10\n",
      "..                   ...    ...\n",
      "62                 class      2\n",
      "63                     1      2\n",
      "64               airshed      2\n",
      "65                  next      2\n",
      "66  sites.|approximately      2\n",
      "\n",
      "[67 rows x 2 columns]\n"
     ]
    }
   ],
   "source": [
    "# Sort the dictionary by count in descending order\n",
    "sorted_repeated_words = sorted(repeated_words.items(), key=lambda item: item[1], reverse=True)\n",
    "\n",
    "# Convert the sorted list of tuples into a DataFrame\n",
    "df_repeated_words = pd.DataFrame(sorted_repeated_words, columns=['Word', 'Count'])\n",
    "\n",
    "print(df_repeated_words)"
   ]
  },
  {
   "cell_type": "code",
   "execution_count": 26,
   "metadata": {},
   "outputs": [
    {
     "name": "stdout",
     "output_type": "stream",
     "text": [
      "                    Word  Count\n",
      "0                    and     26\n",
      "1                     of     19\n",
      "2                    the     11\n",
      "3              including     10\n",
      "4               critical     10\n",
      "5                      &     10\n",
      "6                private      9\n",
      "7            (population      8\n",
      "8                      a      7\n",
      "9                   high      6\n",
      "10               grizzly      6\n",
      "11               utility      5\n",
      "12        infrastructure      5\n",
      "13                  pg&e      5\n",
      "14          distribution      5\n",
      "15                lines.      5\n",
      "16              cosumnes      5\n",
      "17            watershed;      5\n",
      "18                 value      5\n",
      "19               natural      5\n",
      "20               flowing      5\n",
      "21            watershed.      5\n",
      "22               goshawk      5\n",
      "23               spotted      5\n",
      "24                   owl      5\n",
      "25                  pacs      5\n",
      "26            california      5\n",
      "27            red-legged      5\n",
      "28                  frog      5\n",
      "29                native      5\n",
      "30              american      5\n",
      "31              historic      5\n",
      "32              cultural      5\n",
      "33                    to      5\n",
      "34                 flats      5\n",
      "35                   omo      5\n",
      "36                 ranch      5\n",
      "37                 other      5\n",
      "38             potential      4\n",
      "39               impacts      4\n",
      "40                   800      4\n",
      "41            structures      4\n",
      "42            threatened      4\n",
      "43           communities      4\n",
      "44                  284)      4\n",
      "45               1,200);      4\n",
      "46           combination      4\n",
      "47            residences      4\n",
      "48         outbuildings.      4\n",
      "49           businesses,      4\n",
      "50            commercial      4\n",
      "51          timberlands,      4\n",
      "52              vinyards      4\n",
      "53          agricultural      4\n",
      "54                lands.      4\n",
      "55               habitat      4\n",
      "56                    in      3\n",
      "57            evacuation      2\n",
      "58                   for      2\n",
      "59                  area      2\n",
      "60           campgrounds      2\n",
      "61                sites.      2\n",
      "62                 class      2\n",
      "63                     1      2\n",
      "64               airshed      2\n",
      "65                  next      2\n",
      "66  sites.|approximately      2\n"
     ]
    }
   ],
   "source": [
    "pd.set_option('display.max_rows', None)\n",
    "print(df_repeated_words)"
   ]
  }
 ],
 "metadata": {
  "kernelspec": {
   "display_name": "earth-analytics-python",
   "language": "python",
   "name": "python3"
  },
  "language_info": {
   "codemirror_mode": {
    "name": "ipython",
    "version": 3
   },
   "file_extension": ".py",
   "mimetype": "text/x-python",
   "name": "python",
   "nbconvert_exporter": "python",
   "pygments_lexer": "ipython3",
   "version": "3.10.13"
  }
 },
 "nbformat": 4,
 "nbformat_minor": 2
}
