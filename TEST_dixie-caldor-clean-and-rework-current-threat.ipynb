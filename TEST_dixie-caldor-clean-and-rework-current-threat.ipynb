{
 "cells": [
  {
   "cell_type": "code",
   "execution_count": 1,
   "id": "a18a71fa",
   "metadata": {},
   "outputs": [],
   "source": [
    "import os\n",
    "import pandas as pd\n",
    "import numpy as np\n",
    "import earthpy as et"
   ]
  },
  {
   "cell_type": "code",
   "execution_count": 3,
   "id": "f2fcc300",
   "metadata": {},
   "outputs": [],
   "source": [
    "curr_timespan = '2014to2023'\n",
    "data_dir = os.path.join(et.io.HOME, 'data')\n",
    "out_dir = os.path.join(data_dir, 'out')\n",
    "nwcgdata_dir = os.path.join(data_dir,'raw','common_data')\n",
    "tmp_dir = os.path.join(data_dir, 'tmp')"
   ]
  },
  {
   "cell_type": "code",
   "execution_count": 4,
   "id": "d88a3d4f",
   "metadata": {},
   "outputs": [],
   "source": [
    "df = pd.read_csv(os.path.join(out_dir,\n",
    "                                  'SIT209_HISTORY_INCIDENT_209_REPORTS_{}_cleaned.csv'.format(curr_timespan)), \n",
    "                     parse_dates=True,\n",
    "                     low_memory=False)\n",
    "df = df.loc[:, ~df.columns.str.contains('^Unnamed')]"
   ]
  },
  {
   "cell_type": "code",
   "execution_count": 5,
   "id": "63004ae3",
   "metadata": {},
   "outputs": [],
   "source": [
    "dfsub = df.loc[df.INCIDENT_ID.isin(['2021_12993824_DIXIE','2021_12908560_CALDOR'])][['INCIDENT_ID',\n",
    "                                                                                   'INC209R_IDENTIFIER',\n",
    "                                                                                   'REPORT_TO_DATE',\n",
    "                                                                                   'CURRENT_THREAT_12',\n",
    "                                                                                   'CURRENT_THREAT_24',\n",
    "                                                                                   'CURRENT_THREAT_48',\n",
    "                                                                                   'CURRENT_THREAT_72',\n",
    "                                                                                   'CURRENT_THREAT_GT72',\n",
    "                                                                                   'CURRENT_THREAT_NARR',\n",
    "                                                                                   'STR_THREATENED_RES',\n",
    "                                                                                   'STR_THREATENED',\n",
    "                                                                                   'STR_DESTROYED',\n",
    "                                                                    'LIFE_SAFETY_HEALTH_STATUS_NARR']].copy()\n",
    "dfsub[['CURRENT_THREAT_12',\n",
    "       'CURRENT_THREAT_24',\n",
    "       'CURRENT_THREAT_48',\n",
    "       'CURRENT_THREAT_72',\n",
    "       'CURRENT_THREAT_GT72']] = dfsub[['CURRENT_THREAT_12',\n",
    "                                        'CURRENT_THREAT_24',\n",
    "                                        'CURRENT_THREAT_48',\n",
    "                                        'CURRENT_THREAT_72',\n",
    "                                        'CURRENT_THREAT_GT72']].fillna('')"
   ]
  },
  {
   "cell_type": "code",
   "execution_count": 6,
   "id": "d9f3108d",
   "metadata": {},
   "outputs": [],
   "source": [
    "dft = dfsub.copy()\n",
    "collist = ['CURRENT_THREAT_12','CURRENT_THREAT_24','CURRENT_THREAT_48','CURRENT_THREAT_72','CURRENT_THREAT_GT72']\n",
    "#collist = ['CURRENT_THREAT_12','CURRENT_THREAT_24']\n",
    "for col in collist:\n",
    "    dft[col] = df[col].str.strip()\n",
    "\n",
    "# initialize appended to False and consolidated narrative to empty string\n",
    "dft['CURRENT_THREAT_NARR2'] = ''\n",
    "for col in collist:\n",
    "    time_frame = col.split('_')[-1]\n",
    "    # strip to make sure not null\n",
    "    if time_frame == '12':\n",
    "        # initialize processed content\n",
    "        dft.loc[dft[col] != '','prev_narr'] = dft['CURRENT_THREAT_12']\n",
    "        dft.loc[dft[col] != '','time_label'] = time_frame\n",
    "    else: # later time_frame\n",
    "        # equal to previous narrative -- add time to time label\n",
    "        dft.loc[(dft[col] != '') & (dft[col].str.lower() == dft['prev_narr'].str.lower()),'time_label'] = dft.time_label + '/' + time_frame\n",
    "        # not equal -- append and re-initialize\n",
    "        dft.loc[((dft[col] != '') & (dft[col].str.lower() != dft['prev_narr'].str.lower())),'CURRENT_THREAT_NARR2'] = dft.CURRENT_THREAT_NARR2 + \\\n",
    "                                                                                  \"\\n\" + dft.time_label + \" Hours: \" + \\\n",
    "                                                                                  dft.prev_narr\n",
    "        dft.loc[(dft[col] != '') & (dft[col].str.lower() != dft['prev_narr'].str.lower()),'time_label'] = time_frame\n",
    "        dft.loc[(dft[col] != '') & (dft[col].str.lower() != dft['prev_narr'].str.lower()),'prev_narr'] = dft[col]\n",
    "# append remaining values if appended is False\n",
    "dft['CURRENT_THREAT_NARR2'] = dft.CURRENT_THREAT_NARR2 + \"\\n\" + \\\n",
    "                                                dft.time_label + \" Hours: \" + dft.prev_narr\n",
    "dft['CURRENT_THREAT_NARR2'] = dft.CURRENT_THREAT_NARR2.str.strip()\n",
    "        \n",
    "#dft.drop(['prev_narr','time_label'],axis=1,inplace=True)\n",
    "dft.to_csv(os.path.join(tmp_dir,'dixie-caldor-threat.csv'),index=False)"
   ]
  },
  {
   "cell_type": "code",
   "execution_count": null,
   "id": "7d900715",
   "metadata": {},
   "outputs": [],
   "source": []
  }
 ],
 "metadata": {
  "kernelspec": {
   "display_name": "Python 3 (ipykernel)",
   "language": "python",
   "name": "python3"
  },
  "language_info": {
   "codemirror_mode": {
    "name": "ipython",
    "version": 3
   },
   "file_extension": ".py",
   "mimetype": "text/x-python",
   "name": "python",
   "nbconvert_exporter": "python",
   "pygments_lexer": "ipython3",
   "version": "3.8.17"
  }
 },
 "nbformat": 4,
 "nbformat_minor": 5
}
