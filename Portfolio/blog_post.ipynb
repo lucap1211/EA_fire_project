{
 "cells": [
  {
   "cell_type": "markdown",
   "metadata": {},
   "source": [
    "# Narrative reporting offers previously non-synthesized valuable insights for fire management "
   ]
  },
  {
   "cell_type": "markdown",
   "metadata": {},
   "source": [
    "## Understanding the Societal Impacts of Large Wildfires: Threat Narrative Analysis\n",
    "\n",
    "Wildfires have increasingly become a significant concern across the United States. Despite only 2% of wildfires becoming significant incidents, these account for 85% of suppression costs and 95% of total acres burned annually. This project post delves into the societal impacts of large wildfires, drawing insights from ICS-209 data, which provides critical information for wildfire management."
   ]
  },
  {
   "cell_type": "markdown",
   "metadata": {},
   "source": [
    "## Societal Impact of Wildfires\n",
    "\n",
    "Over the last five years, wildfires have caused tremendous damage:\n",
    "- **$81 billion in damages**\n",
    "- **60,000 structures destroyed**\n",
    "- **233 deaths**\n",
    "\n",
    "These numbers highlight the severe consequences of wildfires, not only on the environment but also on human life and property."
   ]
  },
  {
   "cell_type": "markdown",
   "metadata": {},
   "source": [
    "## Incident Command System (ICS) and Data Collection\n",
    "\n",
    "The Incident Command System (ICS) is a standardized on-scene, all-hazard incident management concept, crucial for coordinating efforts across multiple organizations during wildfires. The ICS-209 form is a key tool in this system, capturing a wide range of data, including:\n",
    "- **Environmental Factors** (e.g., weather, fuel conditions)\n",
    "- **Societal Impacts** (e.g., structures threatened, evacuations)\n",
    "- **Narrative Fields** that provide first-hand observations and decision-making insights.\n",
    "\n",
    "The ICS-209-PLUS-WILDFIRES is a fire-focused subset of the [all-hazards dataset](https://www.nature.com/articles/s41597-023-01955-0) mined from the US National Incident Management System 1999–2020 by St. Denis et al. (2023).  I processed the narrative fields to convert text about societal impacts into a suitable format for natural language processing and analyze text to find links between fire hazard characteristics, incident response, and societal impacts/threats incrementally across all phases of active response."
   ]
  },
  {
   "cell_type": "markdown",
   "metadata": {},
   "source": [
    "## Case Studies: Dixie and Caldor Fires\n",
    "\n",
    "The Dixie and Caldor fires of 2021 serve as prime examples of the devastating effects of wildfires:\n",
    "- **Dixie Fire**: Burned 963,309 acres across five counties, causing widespread damage.\n",
    "- **Caldor Fire**: Affected 221,835 acres over three counties, with significant threats to communities and infrastructure.\n",
    "\n",
    "Detailed narrative analysis from ICS-209 reports during these events offers critical insights into the decision-making process and the evolving nature of wildfire management.\n",
    "\n",
    "![focusfires workflow](../graphics/focusfires_workflow.png)"
   ]
  },
  {
   "cell_type": "markdown",
   "metadata": {},
   "source": [
    "## Narrative Text Data Analysis\n",
    "\n",
    "Leveraging Named Entity Recognition (NER) and other natural language processing techniques, we can extract valuable information from ICS-209 narrative fields. This analysis helps link geophysical fire metrics with societal impacts, providing a deeper understanding of how wildfires affect communities.\n",
    "\n",
    "> “This is a critical moment to develop new methods and data products to help understand the interrelationships between the physical and environmental characteristics of environmental hazards, incident response, and management actions, and the societal impacts of large-scale or otherwise significant events.” - St. Denis et al., 2023\n",
    "\n",
    "\n",
    "\n"
   ]
  },
  {
   "cell_type": "markdown",
   "metadata": {},
   "source": [
    "### Reporting was the most frequent during the highest uncertainty  → \t12-hour-threat narratives\n",
    "\n",
    "Current threat narrative fields are available for 12-, 24-, 48-, 72-, Greater-than-72-hours. Although all of these threat reporting frequencies can be relevant for different research questions, we decided to focus on the 12-hour-window. The graphs below shows that the 12-hour between reports is the most frequent period to update the reports, furthermore, the left graph also highlists that the most frequent reporting is related to lower levels of fire containment expressing uncertainty about fire management.\n",
    "\n",
    "![12 hour reporting time relevance](../graphics/reportingtime_complex_visual.png)\n",
    "\n"
   ]
  },
  {
   "cell_type": "markdown",
   "metadata": {},
   "source": []
  }
 ],
 "metadata": {
  "language_info": {
   "name": "python"
  }
 },
 "nbformat": 4,
 "nbformat_minor": 2
}
