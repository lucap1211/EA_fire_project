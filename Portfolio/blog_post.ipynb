{
 "cells": [
  {
   "cell_type": "markdown",
   "metadata": {},
   "source": [
    "# Narrative reporting offers previously non-synthesized valuable insights for fire management "
   ]
  },
  {
   "cell_type": "markdown",
   "metadata": {},
   "source": [
    "## Understanding the Societal Impacts of Large Wildfires: Narrative Threat Text Analysis\n",
    "\n",
    "Wildfires have increasingly become a significant concern across the United States. Despite only 2% of wildfires becoming significant incidents, these account for 85% of suppression costs and 95% of total acres burned annually. This project post delves into the societal impacts of large wildfires, drawing insights from ICS-209 data, which provides critical information for wildfire management."
   ]
  },
  {
   "cell_type": "markdown",
   "metadata": {},
   "source": [
    "## Societal Impact of Wildfires\n",
    "\n",
    "Over the last five years, wildfires have caused tremendous damage:\n",
    "- **$81 billion in damages**\n",
    "- **60,000 structures destroyed**\n",
    "- **233 deaths**\n",
    "\n",
    "These numbers highlight the severe consequences of wildfires, not only on the environment but also on human life and property."
   ]
  },
  {
   "cell_type": "markdown",
   "metadata": {},
   "source": [
    "## Incident Command System (ICS) and Data Sources\n",
    "\n",
    "The Incident Command System (ICS) is a standardized on-scene, all-hazard incident management concept, crucial for coordinating efforts across multiple organizations during wildfires. The ICS-209 form is a key tool in this system, capturing a wide range of data, including:\n",
    "- **Environmental Factors** (e.g., weather, fuel conditions)\n",
    "- **Societal Impacts** (e.g., structures threatened, evacuations)\n",
    "- **Narrative Fields** that provide first-hand observations and decision-making insights.\n",
    "\n",
    "The ICS-209-PLUS-WILDFIRES is a fire-focused subset of the [all-hazards dataset](https://www.nature.com/articles/s41597-023-01955-0) mined from the US National Incident Management System 1999–2020 by St. Denis et al. (2023).  I processed the narrative fields to convert text about societal impacts into a suitable format for natural language processing and analyze text to find links between fire hazard characteristics, incident response, and societal impacts/threats incrementally across all phases of active response."
   ]
  },
  {
   "cell_type": "markdown",
   "metadata": {},
   "source": [
    "## Case Studies: Dixie and Caldor Fires\n",
    "\n",
    "The Dixie and Caldor fires of 2021 serve as prime examples of the devastating effects of wildfires:\n",
    "- **Dixie Fire**: Burned 963,309 acres across five counties, causing widespread damage.\n",
    "- **Caldor Fire**: Affected 221,835 acres over three counties, with significant threats to communities and infrastructure.\n",
    "\n",
    "Detailed narrative analysis from ICS-209 reports during these events offers critical insights into the decision-making process and the evolving nature of wildfire management.\n",
    "\n",
    "![focusfires workflow](../graphics/focusfires_workflow.png)"
   ]
  },
  {
   "cell_type": "markdown",
   "metadata": {},
   "source": [
    "## Narrative Text Data Analysis\n",
    "\n",
    "Leveraging Named Entity Recognition (NER) and other natural language processing techniques, we can extract valuable information from ICS-209 narrative fields. This analysis helps link geophysical fire metrics with societal impacts, providing a deeper understanding of how wildfires affect communities.\n",
    "\n",
    "> “This is a critical moment to develop new methods and data products to help understand the interrelationships between the physical and environmental characteristics of environmental hazards, incident response, and management actions, and the societal impacts of large-scale or otherwise significant events.” - St. Denis et al., 2023\n",
    "\n",
    "\n",
    "\n"
   ]
  },
  {
   "cell_type": "markdown",
   "metadata": {},
   "source": [
    "### Reporting was the most frequent during the highest uncertainty  → \t12-hour-threat narratives\n",
    "\n",
    "Current threat narrative fields are available for 12-, 24-, 48-, 72-, Greater-than-72-hours. Although all of these threat reporting frequencies can be relevant for different research questions, we decided to focus on the 12-hour-window. The graphs below shows that the 12-hour between reports is the most frequent period to update the reports, furthermore, the left graph also highlists that the most frequent reporting is related to lower levels of fire containment expressing uncertainty about fire management.\n",
    "\n",
    "![12 hour reporting time relevance](../graphics/reportingtime_complex_visual.png)\n",
    "\n"
   ]
  },
  {
   "cell_type": "markdown",
   "metadata": {},
   "source": [
    "### Rich narrative data available for large fires\n",
    "\n",
    "Named entity recognition (NER) is a subfield of artificial intelligence (AI) and a natural language processing (NLP) technique. It identifies, tags and categorizes named entities in data. In other words, named entity recognition is like teaching a computer to recognize and categorize names and labels in a body of text, much like how we naturally process and understand these elements in a conversation or a story.\n",
    "\n",
    "For the two focus fires, the 12-hour-narrative-text fields contain rich text data which is hard to interpret without further processing and using text analysis. The following graph shows the large number of available labels that can be identified for Caldor and Dixie fires.\n",
    "\n",
    "\n",
    "<style>\n",
    "/* Container holding the image and the magnifier glass */\n",
    ".img-magnifier-container {\n",
    "  position: relative;\n",
    "}\n",
    "\n",
    "/* Magnifier glass */\n",
    ".img-magnifier-glass {\n",
    "  position: absolute;\n",
    "  border: 3px solid #000;\n",
    "  border-radius: 50%;\n",
    "  cursor: none;\n",
    "  /* Set the size of the magnifier glass: */\n",
    "  width: 50px;  /* Smaller size */\n",
    "  height: 50px; /* Smaller size */\n",
    "}\n",
    "</style>\n",
    "\n",
    "<div style=\"display: flex; justify-content: center;\">\n",
    "    <div class=\"img-magnifier-container\" style=\"margin: 10px;\">\n",
    "        <img id=\"myimage1\" src=\"../graphics/graph_outputs/entities_per_fire.png\" alt=\"Workflow 1\" width=\"700\"/>\n",
    "    </div>\n",
    "    <div class=\"img-magnifier-container\" style=\"margin: 10px;\">\n",
    "        <img id=\"myimage2\" src=\"../graphics/graph_outputs/entity_type_distribution.png\" alt=\"Workflow 2\" width=\"700\"/>\n",
    "    </div>\n",
    "</div>\n",
    "\n",
    "<script>\n",
    "function magnify(imgID, zoom) {\n",
    "  var img, glass, w, h, bw;\n",
    "  img = document.getElementById(imgID);\n",
    "\n",
    "  /* Create magnifier glass: */\n",
    "  glass = document.createElement(\"DIV\");\n",
    "  glass.setAttribute(\"class\", \"img-magnifier-glass\");\n",
    "\n",
    "  /* Insert magnifier glass: */\n",
    "  img.parentElement.insertBefore(glass, img);\n",
    "\n",
    "  /* Set background properties for the magnifier glass: */\n",
    "  glass.style.backgroundImage = \"url('\" + img.src + \"')\";\n",
    "  glass.style.backgroundRepeat = \"no-repeat\";\n",
    "  glass.style.backgroundSize = (img.width * zoom) + \"px \" + (img.height * zoom) + \"px\";\n",
    "  bw = 3;\n",
    "  w = glass.offsetWidth / 2;\n",
    "  h = glass.offsetHeight / 2;\n",
    "\n",
    "  /* Execute a function when someone moves the magnifier glass over the image: */\n",
    "  glass.addEventListener(\"mousemove\", moveMagnifier);\n",
    "  img.addEventListener(\"mousemove\", moveMagnifier);\n",
    "\n",
    "  /* And also for touch screens: */\n",
    "  glass.addEventListener(\"touchmove\", moveMagnifier);\n",
    "  img.addEventListener(\"touchmove\", moveMagnifier);\n",
    "\n",
    "  function moveMagnifier(e) {\n",
    "    var pos, x, y;\n",
    "    /* Prevent any other actions that may occur when moving over the image */\n",
    "    e.preventDefault();\n",
    "    /* Get the cursor's x and y positions: */\n",
    "    pos = getCursorPos(e);\n",
    "    x = pos.x;\n",
    "    y = pos.y;\n",
    "    /* Prevent the magnifier glass from being positioned outside the image: */\n",
    "    if (x > img.width - (w / zoom)) {x = img.width - (w / zoom);}\n",
    "    if (x < w / zoom) {x = w / zoom;}\n",
    "    if (y > img.height - (h / zoom)) {y = img.height - (h / zoom);}\n",
    "    if (y < h / zoom) {y = h / zoom;}\n",
    "    /* Set the position of the magnifier glass: */\n",
    "    glass.style.left = (x - w) + \"px\";\n",
    "    glass.style.top = (y - h) + \"px\";\n",
    "    /* Display what the magnifier glass \"sees\": */\n",
    "    glass.style.backgroundPosition = \"-\" + ((x * zoom) - w + bw) + \"px -\" + ((y * zoom) - h + bw) + \"px\";\n",
    "  }\n",
    "\n",
    "  function getCursorPos(e) {\n",
    "    var a, x = 0, y = 0;\n",
    "    e = e || window.event;\n",
    "    /* Get the x and y positions of the image: */\n",
    "    a = img.getBoundingClientRect();\n",
    "    /* Calculate the cursor's x and y coordinates, relative to the image: */\n",
    "    x = e.pageX - a.left;\n",
    "    y = e.pageY - a.top;\n",
    "    /* Consider any page scrolling: */\n",
    "    x = x - window.pageXOffset;\n",
    "    y = y - window.pageYOffset;\n",
    "    return {x : x, y : y};\n",
    "  }\n",
    "}\n",
    "\n",
    "/* Initiate magnification only on the second image */\n",
    "magnify(\"myimage2\", 3);\n",
    "</script>\n",
    "\n",
    "\n",
    "<div style=\"text-align: center;\">\n",
    "  <table style=\"margin: auto; font-size: 12px;\">\n",
    "    <tr>\n",
    "      <th>Entity Type</th>\n",
    "      <th>Description</th>\n",
    "    </tr>\n",
    "    <tr>\n",
    "      <td>GPE</td>\n",
    "      <td>Countries, cities, states.</td>\n",
    "    </tr>\n",
    "    <tr>\n",
    "      <td>ORG</td>\n",
    "      <td>Companies, agencies, institutions, etc.</td>\n",
    "    </tr>\n",
    "    <tr>\n",
    "      <td>PERSON</td>\n",
    "      <td>People, including fictional.</td>\n",
    "    </tr>\n",
    "    <tr>\n",
    "      <td>LOC</td>\n",
    "      <td>Non-GPE locations, mountain ranges, bodies of water.</td>\n",
    "    </tr>\n",
    "  </table>\n",
    "</div>\n"
   ]
  },
  {
   "cell_type": "markdown",
   "metadata": {
    "vscode": {
     "languageId": "plaintext"
    }
   },
   "source": [
    "## Communities at risk - Advanced Data Analysis\n",
    "\n",
    "By leveraging Named Entity Recognition (NER) and other natural language processing techniques, we can extract valuable information from ICS-209 narrative fields. This analysis helps link geophysical fire metrics with societal impacts, providing a deeper understanding of how wildfires affect communities.\n",
    "\n",
    "![alt text](../graphics/graph_outputs/communities_at_risk_example.png)\n",
    "\n",
    "While more simple and limited language models failed to recognize community names, large language models (like OpenAI's GPT-3.5) was able to successfully identify communities at risk from the narrative text fields. This advancement in computing power can create a unique opportunity to gain a finer understanding of societal impacts and link narrative, text-based data with other available data for wildfires.\n"
   ]
  },
  {
   "cell_type": "markdown",
   "metadata": {},
   "source": [
    "### Large Language Model Complexity\n",
    "\n",
    "To test some complexity of large language models I explored the free version of Perplexity that uses a fine-tuned model based on GPT-3.5. This model is optimized for speed and quality, specifically designed to provide quick search results and responses to user queries. The following table summarizes the output for named entities for Caldor fire across the 12-hour-threat narrative texts. The table provides an overview of different entity types which can be relevant for further exploration. For example the combination of 'Geographic features' and 'Wildlife' types can inform ecological risk, while the previously mentioned communities at risk can help researchers connect mined narrative fields to other often analyzed fields (e.x.: structures threatened).\n",
    "\n",
    "<div style=\"text-align: center;\">\n",
    "  <img src=\"../graphics/model_complexity.png\" alt=\"Model Complexity\" style=\"width: 75%;\"/>\n",
    "  <p style=\"font-size: 15px; color: gray;\">Note: The 'Companies' and 'Organizations' types are underlined in the table to suggest a repetitive entity type picked out by the LLM. Although this is not a critical problem.</p>\n",
    "</div>"
   ]
  },
  {
   "cell_type": "markdown",
   "metadata": {},
   "source": [
    "## Conclusion - Next Steps\n",
    "\n",
    "Narrative reporting from ICS-209 forms offers invaluable, previously non-synthesized insights into the societal impacts of large wildfires. By analyzing these narratives with advanced natural language processing techniques like Named Entity Recognition (NER), we can better understand the intricate connections between fire hazard characteristics, management actions, and their societal effects. The case studies of the Dixie and Caldor fires demonstrate the potential of this approach to inform and improve wildfire management.\n",
    "\n",
    "Moving forward, I plan to enhance the accuracy of named entity recognition by fine-tuning models and creating customized pipelines. Additionally, building metadata to categorize threats by type will further refine our ability to link narrative data with other critical wildfire metrics, paving the way for more informed and effective fire management strategies."
   ]
  },
  {
   "cell_type": "markdown",
   "metadata": {},
   "source": [
    "##### **References**\n",
    "\n",
    "* St. Denis, L.A., Short, K.C., McConnell, K. et al. All-hazards dataset mined from the US National Incident Management System 1999–2020. Sci Data 10, 112 (2023). https://doi.org/10.1038/s41597-023-01955-0\n",
    "* Perplexity AI. (2023). *Perplexity AI: A fine-tuned model based on GPT-3.5*. Retrieved from [https://www.perplexity.ai](https://www.perplexity.ai)\n",
    "\n",
    "<u>**The project's Gituhb repository**</u>\n",
    "\n",
    "Luca Anna, P. (2024). *EA_FIRE_PROJECT*. GitHub. Retrieved from [https://github.com/lucap1211/EA_fire_project](https://github.com/lucap1211/EA_fire_project)"
   ]
  }
 ],
 "metadata": {
  "language_info": {
   "name": "python"
  }
 },
 "nbformat": 4,
 "nbformat_minor": 2
}
