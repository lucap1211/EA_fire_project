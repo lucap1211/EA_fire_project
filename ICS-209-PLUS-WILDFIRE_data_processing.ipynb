{
 "cells": [
  {
   "cell_type": "markdown",
   "metadata": {},
   "source": [
    "This file is being edited..."
   ]
  },
  {
   "cell_type": "code",
   "execution_count": 1,
   "metadata": {},
   "outputs": [],
   "source": [
    "import os\n",
    "import pandas as pd\n",
    "import numpy as np\n",
    "import earthpy as et\n",
    "\n",
    "import matplotlib.pyplot as plt\n",
    "import seaborn as sns\n",
    "\n",
    "# Import the custom function\n",
    "from threat_processor import process_threat_data\n",
    "\n",
    "# Choose timespan for analysis\n",
    "curr_timespan = '2014to2023'\n",
    "\n",
    "# Create directories for organization\n",
    "fire_dir = os.path.join(et.io.HOME, 'earth-analytics', 'EA_fire_project')\n",
    "data_dir = os.path.join(fire_dir, 'data')\n",
    "out_dir = os.path.join(data_dir, 'original')\n",
    "tmp_dir = os.path.join(data_dir, 'processed')"
   ]
  },
  {
   "cell_type": "code",
   "execution_count": 2,
   "metadata": {},
   "outputs": [],
   "source": [
    "# Open SIT209_HISTORY_INCIDENT_209_REPORTS_2014to2023_cleaned.csv file \n",
    "# (available through Figshare see README.md)\n",
    "df = pd.read_csv(\n",
    "    os.path.join(\n",
    "        out_dir,\n",
    "        'SIT209_HISTORY_INCIDENT_209_REPORTS_{}_cleaned.csv'\n",
    "        .format(curr_timespan)\n",
    "        ), parse_dates=True, low_memory=False)\n",
    "# Remove unnamed columns\n",
    "df = df.loc[:, ~df.columns.str.contains('^Unnamed')]"
   ]
  },
  {
   "cell_type": "code",
   "execution_count": 3,
   "metadata": {},
   "outputs": [],
   "source": [
    "# Choose columns for societal impacts analysis\n",
    "columns = ['INCIDENT_ID',\n",
    "           'INC209R_IDENTIFIER',\n",
    "           'REPORT_TO_DATE',\n",
    "           'CURRENT_THREAT_12',\n",
    "           'CURRENT_THREAT_24',\n",
    "           'CURRENT_THREAT_48',\n",
    "           'CURRENT_THREAT_72',\n",
    "           'CURRENT_THREAT_GT72',\n",
    "           'CURRENT_THREAT_NARR',\n",
    "           'STR_THREATENED_RES',\n",
    "           'STR_THREATENED',\n",
    "           'STR_DESTROYED',\n",
    "           'LIFE_SAFETY_HEALTH_STATUS_NARR',\n",
    "           'PCT_CONTAINED_COMPLETED']\n",
    "\n",
    "# create a subset of the data for the Dixie and Caldor fires\n",
    "dfsub = df.loc[\n",
    "    df.INCIDENT_ID.isin(\n",
    "        ['2021_12993824_DIXIE','2021_12908560_CALDOR'])][columns].copy()\n",
    "\n",
    "# Fill empty values with ''\n",
    "collist = ['CURRENT_THREAT_12',\n",
    "           'CURRENT_THREAT_24',\n",
    "           'CURRENT_THREAT_48',\n",
    "           'CURRENT_THREAT_72',\n",
    "           'CURRENT_THREAT_GT72']\n",
    "dfsub[collist] = dfsub[collist].fillna('')"
   ]
  },
  {
   "cell_type": "code",
   "execution_count": 5,
   "metadata": {},
   "outputs": [],
   "source": [
    "# Process the threat data using the custom function\n",
    "output_path = os.path.join(tmp_dir, 'dixie-caldor-threat.csv')\n",
    "\n",
    "process_threat_data(dfsub, collist, output_path)"
   ]
  }
 ],
 "metadata": {
  "kernelspec": {
   "display_name": "earth-analytics-python",
   "language": "python",
   "name": "python3"
  },
  "language_info": {
   "codemirror_mode": {
    "name": "ipython",
    "version": 3
   },
   "file_extension": ".py",
   "mimetype": "text/x-python",
   "name": "python",
   "nbconvert_exporter": "python",
   "pygments_lexer": "ipython3",
   "version": "3.10.13"
  }
 },
 "nbformat": 4,
 "nbformat_minor": 2
}
