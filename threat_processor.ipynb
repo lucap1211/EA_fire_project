{
 "cells": [
  {
   "cell_type": "code",
   "execution_count": 7,
   "metadata": {},
   "outputs": [
    {
     "data": {
      "text/plain": [
       "'threat_processor.py'"
      ]
     },
     "execution_count": 7,
     "metadata": {},
     "output_type": "execute_result"
    }
   ],
   "source": [
    "file_path = 'threat_processor.py'\n",
    "\n",
    "with open(file_path, 'w') as file:\n",
    "    file.write('''\n",
    "import os\n",
    "import pandas as pd\n",
    "\n",
    "def process_threat_data(df, collist, output_path):\n",
    "    df = df.copy()\n",
    "    \n",
    "    for col in collist:\n",
    "        df[col] = df[col].str.strip()\n",
    "\n",
    "    # Initialize appended to False and consolidated narrative to empty string\n",
    "    df['CURRENT_THREAT_NARR2'] = ''\n",
    "    for col in collist:\n",
    "        time_frame = col.split('_')[-1]\n",
    "        # Strip to make sure not null\n",
    "        if time_frame == '12':\n",
    "            # Initialize processed content\n",
    "            df.loc[df[col] != '', 'prev_narr'] = df['CURRENT_THREAT_12']\n",
    "            df.loc[df[col] != '', 'time_label'] = time_frame\n",
    "        else:  # Later time_frame\n",
    "            # Equal to previous narrative -- add time to time label\n",
    "            df.loc[\n",
    "                (df[col] != '') & (df[col].str.lower() == df['prev_narr']\n",
    "               .str.lower()), \n",
    "                'time_label'\n",
    "            ] = df.time_label + '/' + time_frame\n",
    "            \n",
    "            # Not equal -- append and re-initialize\n",
    "            df.loc[\n",
    "                (df[col] != '') & (df[col].str.lower() != df['prev_narr']\n",
    "               .str.lower()), \n",
    "                'CURRENT_THREAT_NARR2'\n",
    "            ] = (\n",
    "                df.CURRENT_THREAT_NARR2 + \n",
    "                \"\\\\n\" + df.time_label + \" Hours: \" + df.prev_narr\n",
    "            )\n",
    "            df.loc[\n",
    "                (df[col] != '') & (df[col].str.lower() != df['prev_narr']\n",
    "               .str.lower()), \n",
    "                'time_label'\n",
    "            ] = time_frame\n",
    "            df.loc[\n",
    "                (df[col] != '') & (df[col].str.lower() != df['prev_narr']\n",
    "               .str.lower()), \n",
    "                'prev_narr'\n",
    "            ] = df[col]\n",
    "\n",
    "    # Append remaining values\n",
    "    df['CURRENT_THREAT_NARR2'] = (\n",
    "        df.CURRENT_THREAT_NARR2 + \"\\\\n\" + \n",
    "        df.time_label + \" Hours: \" + df.prev_narr\n",
    "    )\n",
    "    df['CURRENT_THREAT_NARR2'] = df['CURRENT_THREAT_NARR2'].str.strip()\n",
    "\n",
    "    # Save the resulting DataFrame to a CSV file\n",
    "    df.to_csv(output_path, index=False)\n",
    "''')\n",
    "\n",
    "file_path\n"
   ]
  }
 ],
 "metadata": {
  "kernelspec": {
   "display_name": "earth-analytics-python",
   "language": "python",
   "name": "python3"
  },
  "language_info": {
   "codemirror_mode": {
    "name": "ipython",
    "version": 3
   },
   "file_extension": ".py",
   "mimetype": "text/x-python",
   "name": "python",
   "nbconvert_exporter": "python",
   "pygments_lexer": "ipython3",
   "version": "3.10.13"
  }
 },
 "nbformat": 4,
 "nbformat_minor": 2
}
