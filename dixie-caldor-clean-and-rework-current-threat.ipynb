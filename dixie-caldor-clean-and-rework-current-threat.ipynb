{
 "cells": [
  {
   "cell_type": "code",
   "execution_count": 64,
   "id": "a18a71fa",
   "metadata": {},
   "outputs": [],
   "source": [
    "import os\n",
    "import pandas as pd\n",
    "import numpy as np\n",
    "import earthpy as et"
   ]
  },
  {
   "cell_type": "code",
   "execution_count": 65,
   "id": "f2fcc300",
   "metadata": {},
   "outputs": [],
   "source": [
    "curr_timespan = '2014to2023'\n",
    "\n",
    "fire_dir = os.path.join(et.io.HOME, 'earth-analytics', 'EA_fire_project')\n",
    "data_dir = os.path.join(fire_dir, 'data')\n",
    "out_dir = os.path.join(data_dir, 'original')\n",
    "tmp_dir = os.path.join(data_dir, 'processed')"
   ]
  },
  {
   "cell_type": "code",
   "execution_count": 66,
   "id": "d88a3d4f",
   "metadata": {},
   "outputs": [],
   "source": [
    "df = pd.read_csv(os.path.join(out_dir,\n",
    "                                  'SIT209_HISTORY_INCIDENT_209_REPORTS_{}_cleaned.csv'.format(curr_timespan)), \n",
    "                     parse_dates=True,\n",
    "                     low_memory=False)\n",
    "# Remove unnamed columns\n",
    "df = df.loc[:, ~df.columns.str.contains('^Unnamed')]"
   ]
  },
  {
   "cell_type": "code",
   "execution_count": 67,
   "id": "63004ae3",
   "metadata": {},
   "outputs": [],
   "source": [
    "columns = ['INCIDENT_ID',\n",
    "           'INC209R_IDENTIFIER',\n",
    "           'REPORT_TO_DATE',\n",
    "           'CURRENT_THREAT_12',\n",
    "           'CURRENT_THREAT_24',\n",
    "           'CURRENT_THREAT_48',\n",
    "           'CURRENT_THREAT_72',\n",
    "           'CURRENT_THREAT_GT72',\n",
    "           'CURRENT_THREAT_NARR',\n",
    "           'STR_THREATENED_RES',\n",
    "           'STR_THREATENED',\n",
    "           'STR_DESTROYED',\n",
    "           'LIFE_SAFETY_HEALTH_STATUS_NARR']\n",
    "# create a subset of the data\n",
    "dfsub = df.loc[\n",
    "    df.INCIDENT_ID.isin(\n",
    "        ['2021_12993824_DIXIE','2021_12908560_CALDOR'])][columns].copy()\n",
    "# Fill empty values with ''\n",
    "collist = ['CURRENT_THREAT_12',\n",
    "           'CURRENT_THREAT_24',\n",
    "           'CURRENT_THREAT_48',\n",
    "           'CURRENT_THREAT_72',\n",
    "           'CURRENT_THREAT_GT72']\n",
    "dfsub[collist] = dfsub[collist].fillna('')"
   ]
  },
  {
   "cell_type": "code",
   "execution_count": 68,
   "id": "5fae6f0f",
   "metadata": {},
   "outputs": [],
   "source": [
    "df_norepeat = dfsub.copy()\n",
    "\n",
    "for col in collist:\n",
    "    # create a new column that shifts the current column down by one row\n",
    "    df_norepeat['shifted'] = df_norepeat[col].shift(1)\n",
    "    \n",
    "    # Compare the current column with 'shifted'.\n",
    "    new_col_name = f'unrepeated_{col}'\n",
    "    df_norepeat[new_col_name] = (\n",
    "        df_norepeat.apply(lambda row: 'same' if row[col] == row['shifted'] else row[col],\n",
    "                    axis=1)\n",
    "    )\n",
    "    \n",
    "    # Drop the temporary 'shifted' column after use\n",
    "    df_norepeat.drop(columns=['shifted'], inplace=True)"
   ]
  },
  {
   "cell_type": "code",
   "execution_count": 69,
   "id": "7390b05d",
   "metadata": {},
   "outputs": [],
   "source": [
    "df_norepeat['REPORT_TO_DATE']\n",
    "\n",
    "# Convert 'REPORT_TO_DATE' to datetime format\n",
    "df_norepeat['REPORT_TO_DATE'] = pd.to_datetime(df_norepeat['REPORT_TO_DATE'])\n",
    "\n",
    "# Sort the DataFrame by 'REPORT_TO_DATE'\n",
    "df_norepeat = df_norepeat.sort_values('REPORT_TO_DATE')\n",
    "\n",
    "# Calculate the difference in hours and add as a new column\n",
    "df_norepeat['last_reported'] = df_norepeat['REPORT_TO_DATE'].diff().dt.total_seconds() / 3600"
   ]
  },
  {
   "cell_type": "code",
   "execution_count": 70,
   "id": "eacd5e02",
   "metadata": {},
   "outputs": [
    {
     "data": {
      "text/plain": [
       "<Axes: title={'center': 'Time between reports (hours)'}, ylabel='Frequency'>"
      ]
     },
     "execution_count": 70,
     "metadata": {},
     "output_type": "execute_result"
    },
    {
     "data": {
      "image/png": "[encoded data removed]",
      "text/plain": [
       "<Figure size 640x480 with 1 Axes>"
      ]
     },
     "metadata": {},
     "output_type": "display_data"
    }
   ],
   "source": [
    "# time between reports in general\n",
    "# could also be interesteing time between new 12 hours threats\n",
    "# 12 hours threat has the least uncertainty? 12 hour lead time?\n",
    "df_norepeat['last_reported'].plot(kind='hist', bins= len(df_norepeat), title='Time between reports (hours)')"
   ]
  },
  {
   "cell_type": "code",
   "execution_count": 51,
   "id": "3dbd7bf5",
   "metadata": {},
   "outputs": [
    {
     "data": {
      "text/plain": [
       "0.45652173913043476"
      ]
     },
     "execution_count": 51,
     "metadata": {},
     "output_type": "execute_result"
    }
   ],
   "source": [
    "# Calculate the percentage of repeated/unrepeated values\n",
    "(df_norepeat['unrepeated_CURRENT_THREAT_12'] == 'same').sum() / len(df_norepeat)\n",
    "(df_norepeat['unrepeated_CURRENT_THREAT_12'] != 'same').sum() / len(df_norepeat)"
   ]
  },
  {
   "cell_type": "code",
   "execution_count": 26,
   "id": "d9f3108d",
   "metadata": {},
   "outputs": [],
   "source": [
    "dft = dfsub.copy()\n",
    "# strip spaces\n",
    "for col in collist:\n",
    "    dft[col] = df[col].str.strip()\n",
    "\n",
    "# initialize appended to False and consolidated narrative to empty string\n",
    "dft['CURRENT_THREAT_NARR2'] = ''\n",
    "for col in collist:\n",
    "    time_frame = col.split('_')[-1]\n",
    "    # strip to make sure not null\n",
    "    if time_frame == '12':\n",
    "        # initialize processed content\n",
    "        dft.loc[dft[col] != '','prev_narr'] = dft['CURRENT_THREAT_12']\n",
    "        dft.loc[dft[col] != '','time_label'] = time_frame\n",
    "    else: \n",
    "        # later time_frame\n",
    "        # equal to previous narrative - add time to time label\n",
    "        dft.loc[\n",
    "            (dft[col] != '') & (dft[col].str.lower() == dft['prev_narr'].str.lower()),\n",
    "            'time_label'\n",
    "            ]= dft.time_label + '/' + time_frame\n",
    "        # not equal - append and re-initialize\n",
    "        dft.loc[\n",
    "            ((dft[col] != '') & (dft[col].str.lower() != dft['prev_narr'].str.lower())),\n",
    "            'CURRENT_THREAT_NARR2'\n",
    "            ] = dft.CURRENT_THREAT_NARR2 + \\\n",
    "                \"\\n\" + dft.time_label + \" Hours: \" + \\\n",
    "                dft.prev_narr\n",
    "        dft.loc[\n",
    "            (dft[col] != '') & (dft[col].str.lower() != dft['prev_narr'].str.lower()),\n",
    "            'time_label'\n",
    "            ] = time_frame\n",
    "        dft.loc[\n",
    "            (dft[col] != '') & (dft[col].str.lower() != dft['prev_narr'].str.lower()),\n",
    "            'prev_narr'\n",
    "            ] = dft[col]\n",
    "# format narrative with time label\n",
    "dft['CURRENT_THREAT_NARR2'] = (\n",
    "    dft.CURRENT_THREAT_NARR2 + \"\\n\" + \\\n",
    "    dft.time_label + \" Hours: \" + dft.prev_narr)\n",
    "dft['CURRENT_THREAT_NARR2'] = dft.CURRENT_THREAT_NARR2.str.strip()\n",
    "        \n",
    "\n",
    "dft.to_csv(os.path.join(tmp_dir,'dixie-caldor-threat.csv'),index=False)"
   ]
  }
 ],
 "metadata": {
  "kernelspec": {
   "display_name": "Python 3 (ipykernel)",
   "language": "python",
   "name": "python3"
  },
  "language_info": {
   "codemirror_mode": {
    "name": "ipython",
    "version": 3
   },
   "file_extension": ".py",
   "mimetype": "text/x-python",
   "name": "python",
   "nbconvert_exporter": "python",
   "pygments_lexer": "ipython3",
   "version": "3.10.13"
  }
 },
 "nbformat": 4,
 "nbformat_minor": 5
}
